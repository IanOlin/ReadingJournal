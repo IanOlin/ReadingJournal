{
 "cells": [
  {
   "cell_type": "markdown",
   "metadata": {},
   "source": [
    "# Day 4 Reading Journal\n",
    "\n",
    "This journal includes several required exercises, but it is meant to encourage active reading more generally.  You should use the journal to take detailed notes, catalog questions, and explore the content from Think Python deeply.\n",
    "\n",
    "Reading: Think Python Chapter 10\n",
    "\n",
    "**Due: Thursday, February 4 at 12 noon**\n",
    "\n"
   ]
  },
  {
   "cell_type": "markdown",
   "metadata": {},
   "source": [
    "## [Chapter 10](http://www.greenteapress.com/thinkpython/html/thinkpython011.html)\n",
    "\n",
    "You may want to review [state diagrams in Chapter 2](http://www.greenteapress.com/thinkpython/html/thinkpython003.html#toc13). [Python Tutor](http://pythontutor.com/) is also helpful for visualizing the state of your program.\n",
    "\n"
   ]
  },
  {
   "cell_type": "markdown",
   "metadata": {},
   "source": [
    "### Exercise 4  \n",
    "Write a function called `middle` that takes a list and returns a new list that contains all but the first and last elements. So `middle([1,2,3,4])` should return `[2,3]`."
   ]
  },
  {
   "cell_type": "code",
   "execution_count": 7,
   "metadata": {
    "collapsed": false
   },
   "outputs": [
    {
     "data": {
      "text/plain": [
       "[2, 3, 4, 5]"
      ]
     },
     "execution_count": 7,
     "metadata": {},
     "output_type": "execute_result"
    }
   ],
   "source": [
    "def middle(data):\n",
    "    return data[1:len(data)-1]\n",
    "middle([1,2,3,4,5,6])"
   ]
  },
  {
   "cell_type": "markdown",
   "metadata": {},
   "source": [
    "### Exercise 5  \n",
    "Write a function called `chop` that takes a list, modifies it by removing the first and last elements, and returns `None`.\n",
    "\n",
    "What is the difference between `middle` and `chop`? Sketch out the program state or take a look at each in Python Tutor."
   ]
  },
  {
   "cell_type": "code",
   "execution_count": 17,
   "metadata": {
    "collapsed": false
   },
   "outputs": [
    {
     "name": "stdout",
     "output_type": "stream",
     "text": [
      "[4, 5, 6]\n"
     ]
    }
   ],
   "source": [
    "def chop(data):\n",
    "    del data[0]\n",
    "    del data[len(data)-1]\n",
    "    return None\n",
    "test1 = [3,4,5,6,7]\n",
    "chop(test1)\n",
    "print(test1)"
   ]
  },
  {
   "cell_type": "markdown",
   "metadata": {},
   "source": [
    "Middle doesn't modify the list given to it. Chop modifies the list passed in."
   ]
  },
  {
   "cell_type": "markdown",
   "metadata": {},
   "source": [
    "### Exercise 7  \n",
    "Two words are anagrams if you can rearrange the letters from one to spell the other. Write a function called `is_anagram` that takes two strings and returns `True` if they are anagrams."
   ]
  },
  {
   "cell_type": "code",
   "execution_count": 33,
   "metadata": {
    "collapsed": false
   },
   "outputs": [
    {
     "name": "stdout",
     "output_type": "stream",
     "text": [
      "(True, False, False)\n"
     ]
    }
   ],
   "source": [
    "def is_anagram(word1, word2):\n",
    "    if len(word1) != len(word2):\n",
    "        return False\n",
    "    l1 = list(word1)\n",
    "    l2 = list(word2)\n",
    "    l1.sort()\n",
    "    l2.sort()\n",
    "    if l1 == l2:\n",
    "        return True\n",
    "    else :\n",
    "        return False\n",
    "\n",
    "print(is_anagram('cats','stac'),is_anagram('cats', 'cats are the worst oh god why'),is_anagram('dawg','dogs'))"
   ]
  },
  {
   "cell_type": "code",
   "execution_count": 28,
   "metadata": {
    "collapsed": false
   },
   "outputs": [
    {
     "name": "stdout",
     "output_type": "stream",
     "text": [
      "['a', 'b', 'c']\n"
     ]
    }
   ],
   "source": [
    "mylist = ['b','c','a']\n",
    "mylist.sort()\n",
    "print(mylist)"
   ]
  },
  {
   "cell_type": "markdown",
   "metadata": {},
   "source": [
    "### Exercise 8  \n",
    "The (so-called) Birthday Paradox:\n",
    "1. Write a function called `has_duplicates` that takes a list and returns `True` if there is any element that appears more than once. It should not modify the original list.\n",
    "2. If there are 23 students in your class, what are the chances that two of you have the same birthday? You can estimate this probability by generating random samples of 23 birthdays and checking for matches. Hint: you can generate random birthdays with the randint function in the [random module](https://docs.python.org/2/library/random.html).\n",
    "\n",
    "You can read about this problem at http://en.wikipedia.org/wiki/Birthday_paradox, and you can download Allen's solution from http://thinkpython.com/code/birthday.py."
   ]
  },
  {
   "cell_type": "code",
   "execution_count": 39,
   "metadata": {
    "collapsed": false
   },
   "outputs": [
    {
     "name": "stdout",
     "output_type": "stream",
     "text": [
      "(True, False)\n"
     ]
    }
   ],
   "source": [
    "def has_duplicates(l):\n",
    "    #check list l for duplicates\n",
    "    t = l\n",
    "    t.sort()\n",
    "    for i in range(len(t)-1):\n",
    "        if t[i] == t[i+1]:\n",
    "            return True\n",
    "    return False\n",
    "print(has_duplicates([1,2,3,4,1]), has_duplicates([1,2,3,4,5,6]))"
   ]
  },
  {
   "cell_type": "code",
   "execution_count": 42,
   "metadata": {
    "collapsed": false
   },
   "outputs": [
    {
     "name": "stdout",
     "output_type": "stream",
     "text": [
      "[161, 128, 22, 214, 234, 160, 342, 248, 208, 123]\n"
     ]
    }
   ],
   "source": [
    "'''\n",
    "This problem would likely be better done with a basic understanding of probablility and a calculator\n",
    "'''\n",
    "def gen_bdays(n):\n",
    "    from random import randint\n",
    "    #generate n birthdays in a list\n",
    "    l = [] #init l\n",
    "    for i in range(n):\n",
    "        bday = randint(1,365) #ignore leap years\n",
    "        l.append(bday)\n",
    "    return l\n",
    "print(gen_bdays(10))\n"
   ]
  },
  {
   "cell_type": "code",
   "execution_count": 47,
   "metadata": {
    "collapsed": false
   },
   "outputs": [
    {
     "data": {
      "text/plain": [
       "50"
      ]
     },
     "execution_count": 47,
     "metadata": {},
     "output_type": "execute_result"
    }
   ],
   "source": [
    "def find_chance():\n",
    "    count = 0\n",
    "    for i in range(10000):\n",
    "        if has_duplicates(gen_bdays(23)):\n",
    "            count = count + 1\n",
    "    return count/100\n",
    "\n",
    "find_chance()"
   ]
  },
  {
   "cell_type": "markdown",
   "metadata": {},
   "source": [
    "### Challenge: Exercise 11 (optional)\n",
    "\n",
    "You should read [Chapter 9.1](http://www.greenteapress.com/thinkpython/html/thinkpython010.html) and do Exercise 1 first.\n",
    "\n",
    "To check whether a word is in the word list, you could use the `in` operator, but it would be relatively slow because it searches through the words in order (try it).\n",
    "\n",
    "Because the words are in alphabetical order, we can speed things up with a bisection search (also known as binary search), which is similar to what you do when you look a word up in the dictionary. You start in the middle and check to see whether the word you are looking for comes before the word in the middle of the list. If so, then you search the first half of the list the same way. Otherwise you search the second half.\n",
    "\n",
    "Either way, you cut the remaining search space in half. If the word list has 113,809 words, it will take about 17 steps to find the word or conclude that it’s not there.\n",
    "\n",
    "Write a function called `bisect` that takes a sorted list and a target value and returns the index of the value in the list, if it’s there, or `None` if it’s not.\n",
    "\n",
    "Or you could read the documentation of the `bisect` module and use that! Solution: http://thinkpython.com/code/inlist.py."
   ]
  },
  {
   "cell_type": "code",
   "execution_count": null,
   "metadata": {
    "collapsed": true
   },
   "outputs": [],
   "source": []
  },
  {
   "cell_type": "markdown",
   "metadata": {},
   "source": [
    "## Reading Journal feedback\n",
    "\n",
    "Have any comments on this Reading Journal? Feel free to leave them below and we'll read them when you submit your journal entry. This could include suggestions to improve the exercises, topics you'd like to see covered in class next time, or other feedback.\n",
    "\n",
    "If you have Python questions or run into problems while completing the reading, you should post them to Piazza instead so you can get a quick response before your journal is submitted."
   ]
  },
  {
   "cell_type": "markdown",
   "metadata": {},
   "source": [
    " "
   ]
  }
 ],
 "metadata": {
  "kernelspec": {
   "display_name": "Python 2",
   "language": "python",
   "name": "python2"
  },
  "language_info": {
   "codemirror_mode": {
    "name": "ipython",
    "version": 2
   },
   "file_extension": ".py",
   "mimetype": "text/x-python",
   "name": "python",
   "nbconvert_exporter": "python",
   "pygments_lexer": "ipython2",
   "version": "2.7.6"
  }
 },
 "nbformat": 4,
 "nbformat_minor": 0
}
